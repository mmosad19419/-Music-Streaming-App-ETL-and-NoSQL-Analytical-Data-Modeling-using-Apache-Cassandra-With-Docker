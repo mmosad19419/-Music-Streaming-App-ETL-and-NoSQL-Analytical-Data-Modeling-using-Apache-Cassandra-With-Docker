{
 "cells": [
  {
   "cell_type": "markdown",
   "metadata": {},
   "source": [
    "# NOSQL Data Modeling and ETL pipeline With Apache Cassandra"
   ]
  },
  {
   "cell_type": "markdown",
   "metadata": {},
   "source": [
    "# Part I. ETL Pipeline for Pre-Processing the Files"
   ]
  },
  {
   "cell_type": "markdown",
   "metadata": {},
   "source": [
    "#### Import Python packages "
   ]
  },
  {
   "cell_type": "code",
   "execution_count": 3,
   "metadata": {
    "tags": []
   },
   "outputs": [],
   "source": [
    "#pip install cassandra-driver"
   ]
  },
  {
   "cell_type": "code",
   "execution_count": 4,
   "metadata": {
    "tags": []
   },
   "outputs": [],
   "source": [
    "# Import Python packages \n",
    "import pandas as pd\n",
    "import cassandra\n",
    "import re\n",
    "import os\n",
    "import glob\n",
    "import numpy as np\n",
    "import json\n",
    "import csv"
   ]
  },
  {
   "cell_type": "markdown",
   "metadata": {},
   "source": [
    "#### Creating list of filepaths to process original event csv data files"
   ]
  },
  {
   "cell_type": "code",
   "execution_count": 59,
   "metadata": {
    "tags": []
   },
   "outputs": [
    {
     "name": "stdout",
     "output_type": "stream",
     "text": [
      "/home/jovyan/work\n"
     ]
    }
   ],
   "source": [
    "# checking current working directory\n",
    "print(os.getcwd())\n",
    "\n",
    "# Get your current folder and subfolder event data\n",
    "filepath = os.getcwd() + '/datasets/event_data'\n",
    "\n",
    "# Create a for loop to create a list of files and collect each filepath\n",
    "for root, dirs, files in os.walk(filepath):\n",
    "    \n",
    "# join the file path and roots with the subdirectories using glob\n",
    "    file_path_list = glob.glob(os.path.join(root,'*'))\n",
    "    #print(file_path_list)"
   ]
  },
  {
   "cell_type": "markdown",
   "metadata": {},
   "source": [
    "#### Processing the files to create the data file csv that will be used for Apache Casssandra tables"
   ]
  },
  {
   "cell_type": "code",
   "execution_count": 61,
   "metadata": {
    "tags": []
   },
   "outputs": [],
   "source": [
    "# initiating an empty list of rows that will be generated from each file\n",
    "full_data_rows_list = [] \n",
    "    \n",
    "# for every filepath in the file path list \n",
    "for f in file_path_list:\n",
    "\n",
    "# reading csv file \n",
    "    with open(f, 'r', encoding = 'utf8', newline='') as csvfile: \n",
    "        # creating a csv reader object \n",
    "        csvreader = csv.reader(csvfile) \n",
    "        next(csvreader)\n",
    "        \n",
    " # extracting each data row one by one and append it        \n",
    "        for line in csvreader:\n",
    "            #print(line)\n",
    "            full_data_rows_list.append(line) \n",
    "            \n",
    "# uncomment the code below to get total number of rows \n",
    "#print(len(full_data_rows_list))\n",
    "# uncomment the code below to see what the list of event data rows will look like\n",
    "#print(full_data_rows_list[0])\n",
    "\n",
    "# creating a smaller event data csv file called event_datafile_full csv that will be used to insert data into the \\\n",
    "# Apache Cassandra tables\n",
    "csv.register_dialect('myDialect', quoting=csv.QUOTE_ALL, skipinitialspace=True)\n",
    "\n",
    "with open('./datasets/full_datafile/event_datafile_new.csv', 'w', encoding = 'utf8', newline='') as f:\n",
    "    writer = csv.writer(f, dialect='myDialect')\n",
    "    writer.writerow(['artist','firstName','gender','itemInSession','lastName','length',\\\n",
    "                'level','location','sessionId','song','userId'])\n",
    "    for row in full_data_rows_list:\n",
    "        if (row[0] == ''):\n",
    "            continue\n",
    "        # write the required rows only to the new file\n",
    "        writer.writerow((row[0], row[2], row[3], row[4], row[5], row[6], row[7], row[8], row[12], row[13], row[16]))\n"
   ]
  },
  {
   "cell_type": "code",
   "execution_count": 62,
   "metadata": {
    "tags": []
   },
   "outputs": [
    {
     "name": "stdout",
     "output_type": "stream",
     "text": [
      "6821\n"
     ]
    }
   ],
   "source": [
    "# check the number of rows in your csv file\n",
    "with open('./datasets/full_datafile/event_datafile_new.csv', 'r', encoding = 'utf8') as f:\n",
    "    print(sum(1 for line in f))"
   ]
  },
  {
   "cell_type": "markdown",
   "metadata": {},
   "source": [
    "# Part II. Apache Cassandra Modeling. \n",
    "\n",
    "## work with the CSV file titled <font color=red>event_datafile_new.csv</font>, located within the <font color=red>./datasets/full_datafile directory</font>.\n",
    "## The event_datafile_new.csv contains the following columns: \n",
    "- artist \n",
    "- firstName of user\n",
    "- gender of user\n",
    "- item number in session\n",
    "- last name of user\n",
    "- length of the song\n",
    "- level (paid or free song)\n",
    "- location of the user\n",
    "- sessionId\n",
    "- song title\n",
    "- userId\n",
    "\n",
    "The image below is a screenshot of what the denormalized data should appear like in the <font color=red>**event_datafile_new.csv**</font> after the code above is run:<br>\n",
    "\n",
    "<img src=\"images/image_event_datafile_new.jpg\">"
   ]
  },
  {
   "cell_type": "markdown",
   "metadata": {},
   "source": [
    "## Begin writing your Apache Cassandra code in the cells below"
   ]
  },
  {
   "cell_type": "markdown",
   "metadata": {},
   "source": [
    "#### Creating a Cluster"
   ]
  },
  {
   "cell_type": "code",
   "execution_count": 63,
   "metadata": {
    "tags": []
   },
   "outputs": [],
   "source": [
    "# connect to cassandra\n",
    "from cassandra.cluster import Cluster\n",
    "\n",
    "# setup a cassandra host server using docker\n",
    "CASSANDRA_HOST = \"cassandra\"\n",
    "\n",
    "# conect to cassandra host server\n",
    "cluster = Cluster([CASSANDRA_HOST])\n",
    "\n",
    "# establish connection and begin executing queries, init a session\n",
    "session = cluster.connect()"
   ]
  },
  {
   "cell_type": "markdown",
   "metadata": {},
   "source": [
    "#### Create Keyspace"
   ]
  },
  {
   "cell_type": "code",
   "execution_count": 64,
   "metadata": {
    "tags": []
   },
   "outputs": [],
   "source": [
    "# Create a Keyspace\n",
    "try:\n",
    "    session.execute(\"\"\"\n",
    "                        CREATE KEYSPACE IF NOT EXISTS sparkify\n",
    "                        WITH REPLICATION = \n",
    "                        { 'class' : 'SimpleStrategy', 'replication_factor' : 1 }\n",
    "    \"\"\"\n",
    "    )\n",
    "    \n",
    "except Exception as e:\n",
    "    print(e)"
   ]
  },
  {
   "cell_type": "markdown",
   "metadata": {},
   "source": [
    "#### Set Keyspace"
   ]
  },
  {
   "cell_type": "code",
   "execution_count": 65,
   "metadata": {
    "tags": []
   },
   "outputs": [],
   "source": [
    "# Set KEYSPACE to the keyspace sparkify\n",
    "try:\n",
    "    session.set_keyspace(\"sparkify\")\n",
    "except Exception as e:\n",
    "    print(e)"
   ]
  },
  {
   "cell_type": "markdown",
   "metadata": {},
   "source": [
    "## Nosql Apache cassandra modeling based on the Analytical quieries"
   ]
  },
  {
   "cell_type": "markdown",
   "metadata": {},
   "source": [
    "### Create queries to ask the following three questions of the data\n",
    "\n",
    "#### 1. Give me the artist, song title and song's length in the music app history that was heard during  sessionId = 338, and itemInSession  = 4\n",
    "\n",
    "\n",
    "#### 2. Give me only the following: name of artist, song (sorted by itemInSession) and user (first and last name) for userid = 10, sessionid = 182\n",
    "    \n",
    "\n",
    "#### 3. Give me every user name (first and last) in my music app history who listened to the song 'All Hands Against His Own'\n",
    "\n",
    "\n"
   ]
  },
  {
   "cell_type": "code",
   "execution_count": 66,
   "metadata": {
    "tags": []
   },
   "outputs": [],
   "source": [
    "## Query 1:  Give me the artist, song title and song's length in the music app history that was heard during \\\n",
    "## sessionId = <VALUE>, and itemInSession = <VALUE> \n",
    "try:\n",
    "    session.execute(\"\"\"\n",
    "                        CREATE TABLE IF NOT EXISTS songs\n",
    "                        (\n",
    "                        session_id INT,\n",
    "                        item_in_session INT,\n",
    "                        song_title TEXT,\n",
    "                        song_length FLOAT,\n",
    "                        artist TEXT,\n",
    "                        PRIMARY KEY (session_id, item_in_session)\n",
    "                        );\n",
    "    \"\"\")\n",
    "\n",
    "except Exception as e:\n",
    "    print(e)\n",
    "        "
   ]
  },
  {
   "cell_type": "code",
   "execution_count": 67,
   "metadata": {
    "tags": []
   },
   "outputs": [],
   "source": [
    "# load data from the csv to cassandra Nosql db\n",
    "file = './datasets/full_datafile/event_datafile_new.csv'\n",
    "\n",
    "with open(file, encoding = 'utf8') as f:\n",
    "    csvreader = csv.reader(f)\n",
    "    next(csvreader) # skip header\n",
    "    for line in csvreader:\n",
    "        \n",
    "## Assign the INSERT statements into the `query` variable\n",
    "        query = \"\"\"\n",
    "                    INSERT INTO songs \n",
    "                    (\n",
    "                    session_id,\n",
    "                    item_in_session,\n",
    "                    song_title,\n",
    "                    song_length,\n",
    "                    artist\n",
    "                    ) \n",
    "                    VALUES \n",
    "                    (%s, %s, %s, %s, %s);\n",
    "        \"\"\"\n",
    "        \n",
    "        ## execute query\n",
    "        session.execute(query, (int(line[8]), int(line[3]), line[9], float(line[5]), line[0]))"
   ]
  },
  {
   "cell_type": "markdown",
   "metadata": {},
   "source": [
    "#### Do a SELECT to verify that the data have been inserted into each table"
   ]
  },
  {
   "cell_type": "code",
   "execution_count": 68,
   "metadata": {
    "scrolled": true,
    "tags": []
   },
   "outputs": [
    {
     "name": "stdout",
     "output_type": "stream",
     "text": [
      "338 4 Music Matters (Mark Knight Dub) 495.30731201171875 Faithless\n"
     ]
    }
   ],
   "source": [
    "## SELECT statement to verify the data was entered into the table\n",
    "query = \"\"\"\n",
    "SELECT * \n",
    "FROM songs \n",
    "WHERE session_id = 338 AND item_in_session = 4;\n",
    "\"\"\"\n",
    "\n",
    "result = session.execute(query)\n",
    "\n",
    "for row in result:\n",
    "    print(row.session_id, row.item_in_session, row.song_title, row.song_length, row.artist)"
   ]
  },
  {
   "cell_type": "code",
   "execution_count": 69,
   "metadata": {
    "tags": []
   },
   "outputs": [],
   "source": [
    "## Query 2: Give me only the following: name of artist, song (sorted by itemInSession) and user (first and last name)\\\n",
    "## for userid = <VALUE>, sessionid = <VALUE>;\n",
    "try:\n",
    "    session.execute(\"\"\"\n",
    "                    CREATE TABLE IF NOT EXISTS users\n",
    "                    (\n",
    "                    user_id INT,\n",
    "                    session_id INT,\n",
    "                    item_in_session INT,\n",
    "                    user_firstname TEXT,\n",
    "                    user_lastname TEXT,\n",
    "                    song_title TEXT,\n",
    "                    artist TEXT,\n",
    "                    PRIMARY KEY (user_id, session_id, item_in_session)\n",
    "                    );\n",
    "    \"\"\")\n",
    "\n",
    "except Exception as e:\n",
    "    print(e)             "
   ]
  },
  {
   "cell_type": "code",
   "execution_count": 70,
   "metadata": {
    "tags": []
   },
   "outputs": [],
   "source": [
    "# load data from the csv to cassandra Nosql db\n",
    "file = './datasets/full_datafile/event_datafile_new.csv'\n",
    "\n",
    "with open(file, encoding = 'utf8') as f:\n",
    "    csvreader = csv.reader(f)\n",
    "    next(csvreader) # skip header\n",
    "    for line in csvreader:\n",
    "## Assign the INSERT statements into the `query` variable\n",
    "        query = \"\"\"\n",
    "                    INSERT INTO users\n",
    "                    (\n",
    "                    user_id,\n",
    "                    session_id,\n",
    "                    item_in_session,\n",
    "                    song_title,\n",
    "                    user_firstname,\n",
    "                    user_lastname,\n",
    "                    artist\n",
    "                    )\n",
    "                    VALUES (%s, %s, %s, %s, %s, %s, %s);\n",
    "        \"\"\"\n",
    "        ## execute query\n",
    "        session.execute(query, (int(line[10]), int(line[8]), int(line[3]), line[9], line[1], line[2], line[0]))"
   ]
  },
  {
   "cell_type": "code",
   "execution_count": 73,
   "metadata": {
    "tags": []
   },
   "outputs": [
    {
     "name": "stdout",
     "output_type": "stream",
     "text": [
      "10 182 0 Keep On Keepin' On Sylvie F Down To The Bone\n",
      "10 182 1 Greece 2000 Sylvie F Three Drives\n",
      "10 182 2 Kilometer Sylvie F Sebastien Tellier\n",
      "10 182 3 Catch You Baby (Steve Pitron & Max Sanna Radio Edit) Sylvie F Lonnie Gordon\n"
     ]
    }
   ],
   "source": [
    "## SELECT statement to verify the data was entered into the table\n",
    "query = \"\"\"\n",
    "        SELECT * \n",
    "        FROM users \n",
    "        WHERE user_id = 10 AND session_id = 182;\n",
    "\"\"\"\n",
    "\n",
    "result = session.execute(query)\n",
    "\n",
    "for row in result:\n",
    "    print(row.user_id, row.session_id, row.item_in_session, row.song_title, row.user_firstname, row.user_lastname, row.artist)"
   ]
  },
  {
   "cell_type": "code",
   "execution_count": 74,
   "metadata": {
    "tags": []
   },
   "outputs": [],
   "source": [
    "## Query 3: Give me every user name (first and last) in my music app history who listened to the song 'All Hands Against His Own'\n",
    "try:\n",
    "    session.execute(\"\"\"\n",
    "                    CREATE TABLE IF NOT EXISTS music_library\n",
    "                    (\n",
    "                    user_firstname TEXT,\n",
    "                    user_lastname TEXT,\n",
    "                    song_title TEXT,\n",
    "                    PRIMARY KEY (song_title)\n",
    "                    );\n",
    "    \"\"\")\n",
    "\n",
    "except Exception as e:\n",
    "    print(e)             \n",
    "\n",
    "                    "
   ]
  },
  {
   "cell_type": "code",
   "execution_count": null,
   "metadata": {
    "tags": []
   },
   "outputs": [],
   "source": [
    "# load data from the csv to cassandra Nosql db\n",
    "file = 'event_datafile_new.csv'\n",
    "\n",
    "with open(file, encoding = 'utf8') as f:\n",
    "    csvreader = csv.reader(f)\n",
    "    next(csvreader) # skip header\n",
    "    for line in csvreader:\n",
    "## Assign the INSERT statements into the `query` variable\n",
    "        query = \"\"\"\n",
    "                    INSERT INTO music_library \n",
    "                    (\n",
    "                    song_title,\n",
    "                    user_firstname,\n",
    "                    user_lastname\n",
    "                    )\n",
    "                    VALUES (%s, %s, %s);\n",
    "        \"\"\"\n",
    "\n",
    "        ## execute query\n",
    "        session.execute(query, (line[9], line[1], line[2]))"
   ]
  },
  {
   "cell_type": "code",
   "execution_count": 75,
   "metadata": {
    "tags": []
   },
   "outputs": [],
   "source": [
    "## SELECT statement to verify the data was entered into the table\n",
    "query = \"\"\"\n",
    "            SELECT * \n",
    "            FROM music_library \n",
    "            WHERE song_title = 'All Hands Against His Own';\n",
    "\"\"\"\n",
    "\n",
    "result = session.execute(query)\n",
    "\n",
    "for row in result:\n",
    "    print(row.session_id, row.item_in_session, row.song_title, row.song_length, row.artist)"
   ]
  },
  {
   "cell_type": "markdown",
   "metadata": {},
   "source": [
    "### Drop the tables before closing out the sessions"
   ]
  },
  {
   "cell_type": "code",
   "execution_count": 76,
   "metadata": {
    "tags": []
   },
   "outputs": [
    {
     "data": {
      "text/plain": [
       "<cassandra.cluster.ResultSet at 0x7fcec1dceb30>"
      ]
     },
     "execution_count": 76,
     "metadata": {},
     "output_type": "execute_result"
    }
   ],
   "source": [
    "## Drop the table before closing out the sessions\n",
    "session.execute(\"DROP TABLE IF EXISTS songs\")\n",
    "session.execute(\"DROP TABLE IF EXISTS user\")\n",
    "session.execute(\"DROP TABLE IF EXISTS music_library\")"
   ]
  },
  {
   "cell_type": "markdown",
   "metadata": {},
   "source": [
    "### Close the session and cluster connection¶"
   ]
  },
  {
   "cell_type": "code",
   "execution_count": 77,
   "metadata": {
    "tags": []
   },
   "outputs": [],
   "source": [
    "session.shutdown()\n",
    "cluster.shutdown()"
   ]
  }
 ],
 "metadata": {
  "kernelspec": {
   "display_name": "Python 3 (ipykernel)",
   "language": "python",
   "name": "python3"
  },
  "language_info": {
   "codemirror_mode": {
    "name": "ipython",
    "version": 3
   },
   "file_extension": ".py",
   "mimetype": "text/x-python",
   "name": "python",
   "nbconvert_exporter": "python",
   "pygments_lexer": "ipython3",
   "version": "3.10.9"
  }
 },
 "nbformat": 4,
 "nbformat_minor": 4
}
